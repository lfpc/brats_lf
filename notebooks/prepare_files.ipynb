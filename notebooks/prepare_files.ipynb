{
 "cells": [
  {
   "cell_type": "code",
   "execution_count": 1,
   "id": "08dbc872-d4a6-4a2e-87f4-c974d34600e8",
   "metadata": {},
   "outputs": [],
   "source": [
    "import sys\n",
    "sys.path.append('/home/luis-felipe/brats_lf/src')\n",
    "sys.path.insert(1, '../src')"
   ]
  },
  {
   "cell_type": "code",
   "execution_count": 2,
   "id": "78ba6a81-abeb-4f83-9510-234d5a7adf1b",
   "metadata": {},
   "outputs": [],
   "source": [
    "import os\n",
    "import pandas as pd\n",
    "import numpy as np\n",
    "import torch\n",
    "from sklearn.model_selection import StratifiedKFold\n",
    "\n",
    "import utils"
   ]
  },
  {
   "cell_type": "code",
   "execution_count": 3,
   "id": "1fd4f9a3-6d8b-4944-88a1-7fe4dd5ba36e",
   "metadata": {},
   "outputs": [
    {
     "data": {
      "text/plain": [
       "'/home/luis-felipe/brats_lf'"
      ]
     },
     "execution_count": 3,
     "metadata": {},
     "output_type": "execute_result"
    }
   ],
   "source": [
    "PROJ_ROOT = os.path.join(os.path.abspath(os.pardir))\n",
    "PROJ_ROOT"
   ]
  },
  {
   "cell_type": "code",
   "execution_count": 4,
   "id": "e23120c2-e6ea-4205-9b94-8f57a3806b6b",
   "metadata": {},
   "outputs": [],
   "source": [
    "class GlobalConfig:\n",
    "    \n",
    "    root_dir = os.path.join(PROJ_ROOT,'data')\n",
    "    train_root_dir =os.path.join(root_dir, 'BraTS2020_TrainingData','MICCAI_BraTS2020_TrainingData')\n",
    "    test_root_dir = os.path.join(root_dir, 'BraTS2020_TrainingData','MICCAI_BraTS2020_ValidationData')\n",
    "    path_to_csv = os.path.join(root_dir,'train_data.csv')\n",
    "    pretrained_model_path = os.path.join(PROJ_ROOT,'brats2020logs','unet','last_epoch_model.pth')\n",
    "    train_logs_path = os.path.join(PROJ_ROOT,'brats2020logs','unet','train_log.csv')\n",
    "    ae_pretrained_model_path = os.path.join(PROJ_ROOT,'brats2020logs','ae','autoencoder_best_model.pth')\n",
    "    tab_data = os.path.join(PROJ_ROOT,'brats2020logs','data','df_with_voxel_stats_and_latent_features.csv')\n",
    "    seed = 55\n",
    "\n",
    "    \n",
    "config = GlobalConfig()\n",
    "utils.seed_everything(config.seed)"
   ]
  },
  {
   "cell_type": "code",
   "execution_count": 5,
   "id": "6da35bbf-6251-471f-a791-0b112af154c6",
   "metadata": {},
   "outputs": [
    {
     "name": "stdout",
     "output_type": "stream",
     "text": [
      "train_df -> (201, 12) val_df -> (34, 12) test_df -> (133, 10)\n"
     ]
    },
    {
     "name": "stderr",
     "output_type": "stream",
     "text": [
      "/home/luis-felipe/anaconda3/lib/python3.8/site-packages/sklearn/model_selection/_split.py:666: UserWarning: The least populated class in y has only 1 members, which is less than n_splits=7.\n",
      "  warnings.warn((\"The least populated class in y has only %d\"\n"
     ]
    }
   ],
   "source": [
    "root_dir = os.path.join(PROJ_ROOT,'data')\n",
    "train_root_dir =os.path.join(root_dir, 'BraTS2020_TrainingData','MICCAI_BraTS2020_TrainingData')\n",
    "    \n",
    "survival_info_df = pd.read_csv(os.path.join(train_root_dir,'survival_info.csv'))\n",
    "name_mapping_df =pd.read_csv(os.path.join(train_root_dir,'name_mapping.csv'))\n",
    "\n",
    "name_mapping_df.rename({'BraTS_2020_subject_ID': 'Brats20ID'}, axis=1, inplace=True) \n",
    "\n",
    "\n",
    "df = survival_info_df.merge(name_mapping_df, on=\"Brats20ID\", how=\"right\")\n",
    "\n",
    "paths = []\n",
    "for _, row  in df.iterrows():\n",
    "    \n",
    "    id_ = row['Brats20ID']\n",
    "    phase = id_.split(\"_\")[-2]\n",
    "    \n",
    "    if phase == 'Training':\n",
    "        path = os.path.join(config.train_root_dir, id_)\n",
    "    else:\n",
    "        path = os.path.join(config.test_root_dir, id_)\n",
    "    paths.append(path)\n",
    "    \n",
    "df['path'] = paths\n",
    "\n",
    "#split data on train, test, split\n",
    "#train_df, val_df = train_test_split(train_df, test_size=0.1, random_state=69, shuffle=True)\n",
    "#train_df, val_df = train_df.reset_index(drop=True), val_df.reset_index(drop=True)\n",
    "\n",
    "train_data = df.loc[df['Age'].notnull()].reset_index(drop=True)\n",
    "train_data[\"Age_rank\"] =  train_data[\"Age\"] // 10 * 10\n",
    "train_data = train_data.loc[train_data['Brats20ID'] != 'BraTS20_Training_355'].reset_index(drop=True, )\n",
    "\n",
    "skf = StratifiedKFold(\n",
    "    n_splits=7, random_state=config.seed, shuffle=True\n",
    ")\n",
    "for i, (train_index, val_index) in enumerate(\n",
    "        skf.split(train_data, train_data[\"Age_rank\"])\n",
    "        ):\n",
    "        train_data.loc[val_index, \"fold\"] = i\n",
    "\n",
    "train_df = train_data.loc[train_data['fold'] != 0].reset_index(drop=True)\n",
    "val_df = train_data.loc[train_data['fold'] == 0].reset_index(drop=True)\n",
    "\n",
    "test_df = df.loc[~df['Age'].notnull()].reset_index(drop=True)\n",
    "print(\"train_df ->\", train_df.shape, \"val_df ->\", val_df.shape, \"test_df ->\", test_df.shape)\n",
    "train_data.to_csv(config.path_to_csv, index=False)"
   ]
  },
  {
   "cell_type": "code",
   "execution_count": null,
   "id": "39685971-a750-4b59-953c-844f534a66ad",
   "metadata": {},
   "outputs": [],
   "source": []
  }
 ],
 "metadata": {
  "kernelspec": {
   "display_name": "Python 3",
   "language": "python",
   "name": "python3"
  },
  "language_info": {
   "codemirror_mode": {
    "name": "ipython",
    "version": 3
   },
   "file_extension": ".py",
   "mimetype": "text/x-python",
   "name": "python",
   "nbconvert_exporter": "python",
   "pygments_lexer": "ipython3",
   "version": "3.8.8"
  }
 },
 "nbformat": 4,
 "nbformat_minor": 5
}
